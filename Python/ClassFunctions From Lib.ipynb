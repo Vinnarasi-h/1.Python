{
 "cells": [
  {
   "cell_type": "code",
   "execution_count": 3,
   "id": "5921dcc5-a7bb-4fbe-8586-289f2d1dbb2c",
   "metadata": {},
   "outputs": [],
   "source": [
    "from Test import FindPercent"
   ]
  },
  {
   "cell_type": "code",
   "execution_count": 4,
   "id": "ac92b13c-36c0-4ab8-9383-49daa80cfd86",
   "metadata": {},
   "outputs": [
    {
     "name": "stdout",
     "output_type": "stream",
     "text": [
      "Subject1: 98\n",
      "Subject2: 87\n",
      "Subject3: 95\n",
      "Subject4: 95\n",
      "Subject5: 93\n",
      "Total : 468\n",
      "Percentage: 93.60000000000001\n"
     ]
    }
   ],
   "source": [
    "FindPercent.percentage()"
   ]
  },
  {
   "cell_type": "code",
   "execution_count": 5,
   "id": "db84b24a-2674-4064-a172-f90ea690a03a",
   "metadata": {},
   "outputs": [],
   "source": [
    "from Test import triangle"
   ]
  },
  {
   "cell_type": "code",
   "execution_count": 6,
   "id": "bb567b68-101a-4b67-84ce-176c7988adf9",
   "metadata": {},
   "outputs": [
    {
     "name": "stdin",
     "output_type": "stream",
     "text": [
      "Height1= 2\n",
      "Height2= 4\n",
      "Breadth= 4\n"
     ]
    },
    {
     "name": "stdout",
     "output_type": "stream",
     "text": [
      "Perimeter formula = Height1+Height2+Breadth\n",
      "Perimeter of Triangle: 10\n"
     ]
    }
   ],
   "source": [
    "triangle.perimeter()"
   ]
  },
  {
   "cell_type": "code",
   "execution_count": 7,
   "id": "4349f825-8d19-4fa0-b503-9b5ab75c6feb",
   "metadata": {},
   "outputs": [],
   "source": [
    "from Test import ElegiblityForMarriage"
   ]
  },
  {
   "cell_type": "code",
   "execution_count": 9,
   "id": "b6b7fd52-aefa-4a4c-bfc9-ca5e86d4694f",
   "metadata": {},
   "outputs": [
    {
     "name": "stdin",
     "output_type": "stream",
     "text": [
      "Your Gender: Male\n",
      "Your Age: 20\n"
     ]
    },
    {
     "name": "stdout",
     "output_type": "stream",
     "text": [
      "NOT ELIGIBLE\n"
     ]
    }
   ],
   "source": [
    "ElegiblityForMarriage.eligible()"
   ]
  },
  {
   "cell_type": "code",
   "execution_count": 10,
   "id": "be7209f0-9cbe-4b78-9585-ecd83c84a082",
   "metadata": {},
   "outputs": [],
   "source": [
    "from Test import OddEven"
   ]
  },
  {
   "cell_type": "code",
   "execution_count": 11,
   "id": "a6c1370b-d05a-4ac7-adce-44baa1f5679a",
   "metadata": {},
   "outputs": [
    {
     "name": "stdin",
     "output_type": "stream",
     "text": [
      "Enter a number: 52452\n"
     ]
    },
    {
     "name": "stdout",
     "output_type": "stream",
     "text": [
      "52452 is a Even number\n"
     ]
    }
   ],
   "source": [
    "OddEven()"
   ]
  },
  {
   "cell_type": "code",
   "execution_count": 12,
   "id": "c8cec37c-2db6-4f4f-8b33-e4791140b2f0",
   "metadata": {},
   "outputs": [],
   "source": [
    "from Test import SubfieldsInAI"
   ]
  },
  {
   "cell_type": "code",
   "execution_count": 13,
   "id": "fe00df99-9b63-4d82-98f6-bf6edff331b2",
   "metadata": {},
   "outputs": [
    {
     "name": "stdout",
     "output_type": "stream",
     "text": [
      "Sub-fields in AI are:\n",
      "Machine Learning\n",
      "Neural Networks\n",
      "Vision,Robotics\n",
      "Speech Processing\n",
      "Natural Language Processing\n"
     ]
    }
   ],
   "source": [
    "SubfieldsInAI.Subfields()"
   ]
  },
  {
   "cell_type": "code",
   "execution_count": null,
   "id": "a73f8421-7e63-4037-9c40-bf71c38072d6",
   "metadata": {},
   "outputs": [],
   "source": []
  }
 ],
 "metadata": {
  "kernelspec": {
   "display_name": "Python 3 (ipykernel)",
   "language": "python",
   "name": "python3"
  },
  "language_info": {
   "codemirror_mode": {
    "name": "ipython",
    "version": 3
   },
   "file_extension": ".py",
   "mimetype": "text/x-python",
   "name": "python",
   "nbconvert_exporter": "python",
   "pygments_lexer": "ipython3",
   "version": "3.11.7"
  }
 },
 "nbformat": 4,
 "nbformat_minor": 5
}
