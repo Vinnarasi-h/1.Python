{
 "cells": [
  {
   "cell_type": "code",
   "execution_count": 5,
   "id": "6a0744f5-b428-482a-8183-1646f6b414f1",
   "metadata": {},
   "outputs": [
    {
     "name": "stdin",
     "output_type": "stream",
     "text": [
      "value: 10\n"
     ]
    },
    {
     "name": "stdout",
     "output_type": "stream",
     "text": [
      "correct\n"
     ]
    }
   ],
   "source": [
    "i=int(input(\"value:\"))\n",
    "if i==10:\n",
    "      print(\"correct\")"
   ]
  },
  {
   "cell_type": "code",
   "execution_count": 10,
   "id": "0b108b0a-b88b-4a41-82bb-975ac2f6e4f2",
   "metadata": {},
   "outputs": [
    {
     "name": "stdin",
     "output_type": "stream",
     "text": [
      "Enter the password: HOPE@123\n"
     ]
    },
    {
     "name": "stdout",
     "output_type": "stream",
     "text": [
      "Your password is correct\n"
     ]
    }
   ],
   "source": [
    "i=(input(\"Enter the password:\"))\n",
    "if i==\"HOPE@123\":\n",
    "      print(\"Your password is correct\")\n",
    "else:\n",
    "    print(\"Incorrect password\")"
   ]
  },
  {
   "cell_type": "code",
   "execution_count": null,
   "id": "d6f30e53-c52d-4e7d-a67d-3502594ed82d",
   "metadata": {},
   "outputs": [],
   "source": []
  }
 ],
 "metadata": {
  "kernelspec": {
   "display_name": "Python 3 (ipykernel)",
   "language": "python",
   "name": "python3"
  },
  "language_info": {
   "codemirror_mode": {
    "name": "ipython",
    "version": 3
   },
   "file_extension": ".py",
   "mimetype": "text/x-python",
   "name": "python",
   "nbconvert_exporter": "python",
   "pygments_lexer": "ipython3",
   "version": "3.11.7"
  }
 },
 "nbformat": 4,
 "nbformat_minor": 5
}
