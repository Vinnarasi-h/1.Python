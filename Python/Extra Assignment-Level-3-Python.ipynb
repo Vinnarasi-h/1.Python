{
 "cells": [
  {
   "cell_type": "code",
   "execution_count": 7,
   "id": "9d9a3e08-366d-484b-9ab1-bf2b78bcab8f",
   "metadata": {},
   "outputs": [
    {
     "name": "stdout",
     "output_type": "stream",
     "text": [
      "Value: 10\n",
      "correct\n"
     ]
    }
   ],
   "source": [
    "for check in range(0,15,1):\n",
    "    if(check==10):\n",
    "        print(\"Value:\",check)\n",
    "        print(\"correct\")\n",
    "        "
   ]
  },
  {
   "cell_type": "code",
   "execution_count": 10,
   "id": "50b3d86d-8f76-423e-a256-c115900279c3",
   "metadata": {},
   "outputs": [
    {
     "name": "stdin",
     "output_type": "stream",
     "text": [
      "Enter the password: HOPE@123\n"
     ]
    },
    {
     "name": "stdout",
     "output_type": "stream",
     "text": [
      "Your password is correct\n"
     ]
    }
   ],
   "source": [
    "s = input(\"Enter the password:\")\n",
    "if(s==\"HOPE@123\"):\n",
    "    print(\"Your password is correct\")\n",
    "else:\n",
    "    print(\"Incorrect\")"
   ]
  },
  {
   "cell_type": "code",
   "execution_count": 13,
   "id": "c5d6df0b-9250-4193-835d-f833004ff231",
   "metadata": {},
   "outputs": [
    {
     "name": "stdin",
     "output_type": "stream",
     "text": [
      "age: 20\n"
     ]
    },
    {
     "name": "stdout",
     "output_type": "stream",
     "text": [
      "Adult\n"
     ]
    }
   ],
   "source": [
    "age=int(input('age:'))\n",
    "if(age<18):\n",
    "    print(\"Children\")\n",
    "elif(age<35):\n",
    "    print(\"Adult\")\n",
    "elif(age<59):\n",
    "    print(\"Citizen\")\n",
    "else:\n",
    "    print(\"Senior citizen\")"
   ]
  },
  {
   "cell_type": "code",
   "execution_count": 14,
   "id": "a6f0690e-bf81-45af-99bf-b31a1c62d040",
   "metadata": {},
   "outputs": [
    {
     "name": "stdin",
     "output_type": "stream",
     "text": [
      "Enter any number: 1\n"
     ]
    },
    {
     "name": "stdout",
     "output_type": "stream",
     "text": [
      "No is Positive\n"
     ]
    }
   ],
   "source": [
    "num = int(input(\"Enter any number:\"))\n",
    "if(num>=1):\n",
    "    print(\"No is Positive\")\n",
    "else:\n",
    "    print(\"Incorrect\")"
   ]
  },
  {
   "cell_type": "code",
   "execution_count": 15,
   "id": "f5c62a5b-0de5-4219-b0f9-9c8e4cbf54cb",
   "metadata": {},
   "outputs": [
    {
     "name": "stdin",
     "output_type": "stream",
     "text": [
      "Enter a number to check: 22\n"
     ]
    },
    {
     "name": "stdout",
     "output_type": "stream",
     "text": [
      "No is not divisible by 5\n"
     ]
    }
   ],
   "source": [
    "num = int(input(\"Enter a number to check:\"))\n",
    "if(num % 5==0):\n",
    "    print(\"Divisible\")\n",
    "else:\n",
    "    print(\"No is not divisible by 5\")"
   ]
  },
  {
   "cell_type": "code",
   "execution_count": null,
   "id": "7f964a27-a5b7-4376-a97d-c157cbdf9c73",
   "metadata": {},
   "outputs": [],
   "source": []
  }
 ],
 "metadata": {
  "kernelspec": {
   "display_name": "Python 3 (ipykernel)",
   "language": "python",
   "name": "python3"
  },
  "language_info": {
   "codemirror_mode": {
    "name": "ipython",
    "version": 3
   },
   "file_extension": ".py",
   "mimetype": "text/x-python",
   "name": "python",
   "nbconvert_exporter": "python",
   "pygments_lexer": "ipython3",
   "version": "3.11.7"
  }
 },
 "nbformat": 4,
 "nbformat_minor": 5
}
