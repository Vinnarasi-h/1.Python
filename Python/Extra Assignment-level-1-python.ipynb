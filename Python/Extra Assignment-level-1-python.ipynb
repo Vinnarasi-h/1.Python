{
 "cells": [
  {
   "cell_type": "code",
   "execution_count": 1,
   "id": "b961215c-f911-4940-967f-1e2b7fa02ab8",
   "metadata": {},
   "outputs": [
    {
     "name": "stdout",
     "output_type": "stream",
     "text": [
      "HOPE AI\n"
     ]
    }
   ],
   "source": [
    "print(\"HOPE AI\")"
   ]
  },
  {
   "cell_type": "code",
   "execution_count": 2,
   "id": "f2261dff-8b8f-443d-b8de-a44932683b13",
   "metadata": {},
   "outputs": [
    {
     "name": "stdin",
     "output_type": "stream",
     "text": [
      "Enter your institute name? :  HOPE AI\n"
     ]
    }
   ],
   "source": [
    "Name = input(\"Enter your institute name? :\")"
   ]
  },
  {
   "cell_type": "code",
   "execution_count": 5,
   "id": "b7289ef2-6462-4007-89d3-bded772d5092",
   "metadata": {},
   "outputs": [
    {
     "name": "stdin",
     "output_type": "stream",
     "text": [
      "Enter your name: Raj\n",
      "Enter your age: 15\n",
      "Enter your school name: Guru School\n",
      "Enter your drgree: B.E CSE\n"
     ]
    }
   ],
   "source": [
    "Name = input(\"Enter your name:\")\n",
    "Age= int(input(\"Enter your age:\"))\n",
    "School = input(\"Enter your school name:\")\n",
    "Degree=input(\"Enter your drgree:\")\n"
   ]
  },
  {
   "cell_type": "code",
   "execution_count": 6,
   "id": "2adbc947-dd05-4f06-9b43-d6b1a965990d",
   "metadata": {},
   "outputs": [
    {
     "name": "stdout",
     "output_type": "stream",
     "text": [
      "a= 43\n",
      "b= 34\n",
      "add = 77\n"
     ]
    }
   ],
   "source": [
    "a= 43\n",
    "b= 34\n",
    "add = a+b\n",
    "print(\"a=\",a)\n",
    "print(\"b=\",b)\n",
    "print(\"add =\",add)"
   ]
  },
  {
   "cell_type": "code",
   "execution_count": 8,
   "id": "7c898497-1b10-43ba-bed6-7ae5a69e37f8",
   "metadata": {},
   "outputs": [
    {
     "name": "stdout",
     "output_type": "stream",
     "text": [
      "a= 43\n",
      "b= 34\n",
      "Sub = 9\n"
     ]
    }
   ],
   "source": [
    "a= 43\n",
    "b= 34\n",
    "Sub = a-b\n",
    "print(\"a=\",a)\n",
    "print(\"b=\",b)\n",
    "print(\"Sub =\",Sub)"
   ]
  },
  {
   "cell_type": "code",
   "execution_count": 9,
   "id": "6b98adbd-7951-484e-9d82-a93595de54b5",
   "metadata": {},
   "outputs": [
    {
     "name": "stdout",
     "output_type": "stream",
     "text": [
      "a= 63\n",
      "b= 97\n",
      "Mul = 6111\n"
     ]
    }
   ],
   "source": [
    "a= 63\n",
    "b= 97\n",
    "Mul = a*b\n",
    "print(\"a=\",a)\n",
    "print(\"b=\",b)\n",
    "print(\"Mul =\",Mul)"
   ]
  },
  {
   "cell_type": "code",
   "execution_count": 11,
   "id": "f0716a8d-5d3f-4e2a-9352-c4797d28c86d",
   "metadata": {},
   "outputs": [
    {
     "name": "stdout",
     "output_type": "stream",
     "text": [
      "a= 76\n",
      "b= 31\n",
      "Float Div = 2.4516129032258065\n"
     ]
    }
   ],
   "source": [
    "a= 76\n",
    "b= 31\n",
    "Div = a/b\n",
    "print(\"a=\",a)\n",
    "print(\"b=\",b)\n",
    "print(\"Float Div =\",Div)"
   ]
  },
  {
   "cell_type": "code",
   "execution_count": 12,
   "id": "9a34f203-b4ff-48a9-9320-8220444c0121",
   "metadata": {},
   "outputs": [
    {
     "name": "stdout",
     "output_type": "stream",
     "text": [
      "a= 76\n",
      "b= 31\n",
      "Floor Div = 2\n"
     ]
    }
   ],
   "source": [
    "a= 76\n",
    "b= 31\n",
    "Div = a//b\n",
    "print(\"a=\",a)\n",
    "print(\"b=\",b)\n",
    "print(\"Floor Div =\",Div)"
   ]
  },
  {
   "cell_type": "code",
   "execution_count": 13,
   "id": "4c69a1ca-812c-4f53-82bb-14398f4c53bc",
   "metadata": {},
   "outputs": [
    {
     "name": "stdout",
     "output_type": "stream",
     "text": [
      "a= 76\n",
      "b= 31\n",
      "Modulo = 14\n"
     ]
    }
   ],
   "source": [
    "a= 76\n",
    "b= 31\n",
    "Mod = a%b\n",
    "print(\"a=\",a)\n",
    "print(\"b=\",b)\n",
    "print(\"Modulo =\",Mod)"
   ]
  },
  {
   "cell_type": "code",
   "execution_count": 15,
   "id": "2b76b9de-94ce-4013-ab0d-a8d4d60b0985",
   "metadata": {},
   "outputs": [
    {
     "name": "stdout",
     "output_type": "stream",
     "text": [
      "a= 4\n",
      "b= 4\n",
      "Power = 256\n"
     ]
    }
   ],
   "source": [
    "a= 4\n",
    "b= 4\n",
    "Pow = a**b\n",
    "print(\"a=\",a)\n",
    "print(\"b=\",b)\n",
    "print(\"Power =\",Pow)"
   ]
  }
 ],
 "metadata": {
  "kernelspec": {
   "display_name": "Python 3 (ipykernel)",
   "language": "python",
   "name": "python3"
  },
  "language_info": {
   "codemirror_mode": {
    "name": "ipython",
    "version": 3
   },
   "file_extension": ".py",
   "mimetype": "text/x-python",
   "name": "python",
   "nbconvert_exporter": "python",
   "pygments_lexer": "ipython3",
   "version": "3.11.7"
  }
 },
 "nbformat": 4,
 "nbformat_minor": 5
}
