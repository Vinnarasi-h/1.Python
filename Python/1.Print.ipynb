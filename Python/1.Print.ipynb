{
 "cells": [
  {
   "cell_type": "code",
   "execution_count": 1,
   "id": "cd7fa1a4-4522-43d2-9bad-bc57fe992934",
   "metadata": {},
   "outputs": [
    {
     "ename": "SyntaxError",
     "evalue": "incomplete input (617670456.py, line 1)",
     "output_type": "error",
     "traceback": [
      "\u001b[1;36m  Cell \u001b[1;32mIn[1], line 1\u001b[1;36m\u001b[0m\n\u001b[1;33m    print(\"Welcome to Hope Ai\"\u001b[0m\n\u001b[1;37m                              ^\u001b[0m\n\u001b[1;31mSyntaxError\u001b[0m\u001b[1;31m:\u001b[0m incomplete input\n"
     ]
    }
   ],
   "source": [
    "print(\"Welcome to Hope Ai\""
   ]
  },
  {
   "cell_type": "code",
   "execution_count": 2,
   "id": "6b55bf5e-6dbb-4a87-98d4-84f5ef119a62",
   "metadata": {},
   "outputs": [
    {
     "name": "stdout",
     "output_type": "stream",
     "text": [
      "Welcome to Hope Ai\n"
     ]
    }
   ],
   "source": [
    "print(\"Welcome to Hope Ai\")"
   ]
  },
  {
   "cell_type": "code",
   "execution_count": 3,
   "id": "eb4c23c0-8364-4b92-a478-f49be3bf9c9d",
   "metadata": {},
   "outputs": [
    {
     "name": "stdout",
     "output_type": "stream",
     "text": [
      "Welcome to AI Vinnarasi\n"
     ]
    }
   ],
   "source": [
    "print(\"Welcome to AI Vinnarasi\")"
   ]
  },
  {
   "cell_type": "code",
   "execution_count": null,
   "id": "abcf9cca-0086-4e93-8e4b-219198e697f0",
   "metadata": {},
   "outputs": [],
   "source": []
  }
 ],
 "metadata": {
  "kernelspec": {
   "display_name": "Python 3 (ipykernel)",
   "language": "python",
   "name": "python3"
  },
  "language_info": {
   "codemirror_mode": {
    "name": "ipython",
    "version": 3
   },
   "file_extension": ".py",
   "mimetype": "text/x-python",
   "name": "python",
   "nbconvert_exporter": "python",
   "pygments_lexer": "ipython3",
   "version": "3.11.7"
  }
 },
 "nbformat": 4,
 "nbformat_minor": 5
}
