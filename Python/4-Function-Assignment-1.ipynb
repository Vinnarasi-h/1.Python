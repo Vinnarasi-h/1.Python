{
 "cells": [
  {
   "cell_type": "code",
   "execution_count": 2,
   "id": "e30ed742-8d03-4212-a9ff-9606e9a40e95",
   "metadata": {},
   "outputs": [],
   "source": [
    "list=('Machine Learning','Neural Networks','Vision,Robotics','Speech Processing','Natural Language Processing')\n",
    "def Subfields():\n",
    "    print(\"Sub-fields in AI are:\")    \n",
    "    for i in list:\n",
    "        print(i)\n",
    "            "
   ]
  },
  {
   "cell_type": "code",
   "execution_count": 3,
   "id": "b36ccc0a-60e3-4022-b1ed-27aad1e5ca50",
   "metadata": {},
   "outputs": [
    {
     "name": "stdout",
     "output_type": "stream",
     "text": [
      "Sub-fields in AI are:\n",
      "Machine Learning\n",
      "Neural Networks\n",
      "Vision,Robotics\n",
      "Speech Processing\n",
      "Natural Language Processing\n"
     ]
    }
   ],
   "source": [
    "Subfields()"
   ]
  },
  {
   "cell_type": "code",
   "execution_count": 16,
   "id": "0a6c6c64-3781-44fa-acf8-325b132ff9e2",
   "metadata": {},
   "outputs": [
    {
     "name": "stdin",
     "output_type": "stream",
     "text": [
      "Enter a number: 52452\n"
     ]
    },
    {
     "name": "stdout",
     "output_type": "stream",
     "text": [
      "52452 is a Even number\n"
     ]
    }
   ],
   "source": [
    " \n",
    "\n",
    "def OddEven():\n",
    "    num = int(input(\"Enter a number:\"))\n",
    "    if (num%2==0):\n",
    "            print(num,\"is a Even number\")\n",
    "    else:\n",
    "            print(\"odd number\")\n",
    " \n",
    "OddEven()\n",
    "        \n",
    "        \n",
    "        \n",
    "   \n",
    "   \n",
    "\n",
    " "
   ]
  },
  {
   "cell_type": "code",
   "execution_count": 2,
   "id": "3dac9d99-8bfa-4882-83d0-2aa40d9e36a3",
   "metadata": {
    "scrolled": true
   },
   "outputs": [
    {
     "name": "stdin",
     "output_type": "stream",
     "text": [
      "Your Gender: Male\n",
      "Your Age: 20\n"
     ]
    },
    {
     "name": "stdout",
     "output_type": "stream",
     "text": [
      "NOT ELIGIBLE\n"
     ]
    }
   ],
   "source": [
    "def eligible():\n",
    "    gender=input(\"Your Gender:\")\n",
    "    age=int(input(\"Your Age:\"))\n",
    "    male_age_limit=21\n",
    "    female_age_limit=18\n",
    "    if gender.lower()== \"male\":\n",
    "        if age >= male_age_limit:\n",
    "            print (\"ELIGIBLE\")\n",
    "        else:\n",
    "            print (\"NOT ELIGIBLE\")\n",
    "    elif gender.lower() == \"female\":\n",
    "          if age >= female_age_limit:\n",
    "              print (\"ELIGIBLE\")\n",
    "          else:\n",
    "              print (\"NOT ELIGIBLE\")\n",
    "    else:\n",
    "        print (\"INVALID GENDER\")  \n",
    "            \n",
    "eligible()\n",
    "\n",
    "\n",
    "        \n",
    "    \n",
    "    \n",
    "\n",
    "            \n"
   ]
  },
  {
   "cell_type": "code",
   "execution_count": 48,
   "id": "7060abc0-71b7-440c-90c7-615539c087f6",
   "metadata": {},
   "outputs": [
    {
     "name": "stdout",
     "output_type": "stream",
     "text": [
      "Subject1: 98\n",
      "Subject2: 87\n",
      "Subject3: 95\n",
      "Subject4: 95\n",
      "Subject5: 93\n",
      "Total : 468\n",
      "Percentage: 93.60000000000001\n"
     ]
    }
   ],
   "source": [
    "# Subject1= 98\n",
    "# Subject2= 87\n",
    "# Subject3= 95\n",
    "# Subject4= 95\n",
    "# Subject5= 93\n",
    "# Total : 468\n",
    "# Percentage : 93.60000000000001\n",
    "\n",
    "def percentage():\n",
    "    Subject1= 98\n",
    "    print(\"Subject1:\",Subject1)\n",
    "    Subject2= 87\n",
    "    print(\"Subject2:\",Subject2)\n",
    "    Subject3= 95\n",
    "    print(\"Subject3:\",Subject3)\n",
    "    Subject4= 95\n",
    "    print(\"Subject4:\",Subject4)\n",
    "    Subject5= 93\n",
    "    print(\"Subject5:\",Subject5)\n",
    "    Total = (Subject1+ Subject2+ Subject3+ Subject4+ Subject5)\n",
    "    print(\"Total :\",Total)\n",
    "    Per= (Total/500)*100\n",
    "    print(\"Percentage:\",Per)\n",
    "percentage()\n",
    "\n",
    "    "
   ]
  },
  {
   "cell_type": "code",
   "execution_count": 49,
   "id": "f3fb2a88-fef6-45c4-94d9-4ee0ae475312",
   "metadata": {},
   "outputs": [
    {
     "name": "stdout",
     "output_type": "stream",
     "text": [
      "Area of Triangle: 544.0\n",
      "Perimeter of Triangle: 10\n"
     ]
    },
    {
     "data": {
      "text/plain": [
       "10"
      ]
     },
     "execution_count": 49,
     "metadata": {},
     "output_type": "execute_result"
    }
   ],
   "source": [
    "# Height:32\n",
    "# Breadth:34\n",
    "# Area formula: (Height*Breadth)/2\n",
    "# Area of Triangle: 544.0\n",
    "# Height1:2\n",
    "# Height2:4\n",
    "# Breadth:4\n",
    "# Perimeter formula: Height1+Height2+Breadth\n",
    "# Perimeter of Triangle: 10\n",
    "\n",
    "class areaPerimeter():\n",
    "    def area():\n",
    "        Height=32\n",
    "        Breadth=34\n",
    "        Area =(Height*Breadth)/2\n",
    "        print(\"Area of Triangle:\",Area)\n",
    "        return Area \n",
    "    def perimeter():\n",
    "        Height1=2\n",
    "        Height2=4\n",
    "        Breadth=4\n",
    "        Perimeter = Height1+Height2+Breadth\n",
    "        print(\"Perimeter of Triangle:\",Perimeter)\n",
    "        return Perimeter\n",
    "areaPerimeter.area()\n",
    "areaPerimeter.perimeter()\n",
    "\n"
   ]
  },
  {
   "cell_type": "code",
   "execution_count": null,
   "id": "7094cb2c-27a3-41b9-a93f-866d00148504",
   "metadata": {},
   "outputs": [],
   "source": []
  }
 ],
 "metadata": {
  "kernelspec": {
   "display_name": "Python 3 (ipykernel)",
   "language": "python",
   "name": "python3"
  },
  "language_info": {
   "codemirror_mode": {
    "name": "ipython",
    "version": 3
   },
   "file_extension": ".py",
   "mimetype": "text/x-python",
   "name": "python",
   "nbconvert_exporter": "python",
   "pygments_lexer": "ipython3",
   "version": "3.11.7"
  }
 },
 "nbformat": 4,
 "nbformat_minor": 5
}
