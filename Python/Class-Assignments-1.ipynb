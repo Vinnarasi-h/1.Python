{
 "cells": [
  {
   "cell_type": "code",
   "execution_count": 3,
   "id": "9596b37a-731b-4a81-9341-965f8acca830",
   "metadata": {},
   "outputs": [
    {
     "name": "stdout",
     "output_type": "stream",
     "text": [
      "Sub-fields in AI are:\n",
      "Machine Learning\n",
      "Neural Networks\n",
      "Vision,Robotics\n",
      "Speech Processing\n",
      "Natural Language Processing\n"
     ]
    }
   ],
   "source": [
    "class SubfieldsInAI():\n",
    "       def Subfields():\n",
    "            print(\"Sub-fields in AI are:\")\n",
    "            list=('Machine Learning','Neural Networks','Vision,Robotics','Speech Processing','Natural Language Processing')\n",
    "            for i in list:\n",
    "                print(i)\n",
    "            \n",
    "SubfieldsInAI.Subfields()\n",
    "            "
   ]
  },
  {
   "cell_type": "code",
   "execution_count": 5,
   "id": "976effca-1382-4ca8-9f49-6856b10ab675",
   "metadata": {},
   "outputs": [
    {
     "name": "stdin",
     "output_type": "stream",
     "text": [
      "Enter a number: 52452\n"
     ]
    },
    {
     "name": "stdout",
     "output_type": "stream",
     "text": [
      "52452 is a Even number\n"
     ]
    }
   ],
   "source": [
    "class OddEven():\n",
    "        def OddEven():\n",
    "            num = int(input(\"Enter a number:\"))\n",
    "            if (num%2==0):\n",
    "               print(num,\"is a Even number\")\n",
    "            else:\n",
    "                    print(\"odd number\")\n",
    "OddEven.OddEven()"
   ]
  },
  {
   "cell_type": "code",
   "execution_count": 6,
   "id": "c635d015-5226-4b57-869f-f871835fc3e0",
   "metadata": {},
   "outputs": [
    {
     "name": "stdin",
     "output_type": "stream",
     "text": [
      "Your Gender: Male\n",
      "Your Age: 20\n"
     ]
    },
    {
     "name": "stdout",
     "output_type": "stream",
     "text": [
      "NOT ELIGIBLE\n"
     ]
    }
   ],
   "source": [
    "class ElegiblityForMarriage():\n",
    "    def eligible():\n",
    "        gender=input(\"Your Gender:\")\n",
    "        age=int(input(\"Your Age:\"))\n",
    "        male_age_limit=21\n",
    "        female_age_limit=18\n",
    "        if gender.lower()== \"male\":\n",
    "            if age >= male_age_limit:\n",
    "                print (\"ELIGIBLE\")\n",
    "            else:\n",
    "                print (\"NOT ELIGIBLE\")\n",
    "        elif gender.lower() == \"female\":\n",
    "              if age >= female_age_limit:\n",
    "                  print (\"ELIGIBLE\")\n",
    "              else:\n",
    "                  print (\"NOT ELIGIBLE\")\n",
    "                  \n",
    "ElegiblityForMarriage.eligible()\n",
    "\n",
    "\n",
    "        \n",
    "    \n",
    "    \n",
    "\n",
    "            \n"
   ]
  },
  {
   "cell_type": "code",
   "execution_count": 8,
   "id": "496156e1-f55b-48b2-a28c-63a2196592fe",
   "metadata": {},
   "outputs": [
    {
     "name": "stdout",
     "output_type": "stream",
     "text": [
      "Subject1: 98\n",
      "Subject2: 87\n",
      "Subject3: 95\n",
      "Subject4: 95\n",
      "Subject5: 93\n",
      "Total : 468\n",
      "Percentage: 93.60000000000001\n"
     ]
    }
   ],
   "source": [
    "class FindPercent():\n",
    "    def percentage():\n",
    "        Subject1= 98\n",
    "        print(\"Subject1:\",Subject1)\n",
    "        Subject2= 87\n",
    "        print(\"Subject2:\",Subject2)\n",
    "        Subject3= 95\n",
    "        print(\"Subject3:\",Subject3)\n",
    "        Subject4= 95\n",
    "        print(\"Subject4:\",Subject4)\n",
    "        Subject5= 93\n",
    "        print(\"Subject5:\",Subject5)\n",
    "        Total = (Subject1+ Subject2+ Subject3+ Subject4+ Subject5)\n",
    "        print(\"Total :\",Total)\n",
    "        Per= (Total/500)*100\n",
    "        print(\"Percentage:\",Per)\n",
    "FindPercent.percentage()"
   ]
  },
  {
   "cell_type": "code",
   "execution_count": 14,
   "id": "c71cc3d2-a126-4694-ba5b-2030e9f9cbbc",
   "metadata": {},
   "outputs": [
    {
     "name": "stdin",
     "output_type": "stream",
     "text": [
      "Height= 32\n",
      "Breadth= 34\n"
     ]
    },
    {
     "name": "stdout",
     "output_type": "stream",
     "text": [
      "Area formula =(Height*Breadth)/2\n",
      "Area of Triangle: 544.0\n"
     ]
    },
    {
     "name": "stdin",
     "output_type": "stream",
     "text": [
      "Height1= 2\n",
      "Height2= 4\n",
      "Breadth= 4\n"
     ]
    },
    {
     "name": "stdout",
     "output_type": "stream",
     "text": [
      "Perimeter formula = Height1+Height2+Breadth\n",
      "Perimeter of Triangle: 10\n"
     ]
    }
   ],
   "source": [
    "class triangle():\n",
    "    def area():\n",
    "            Height=int(input(\"Height=\"))\n",
    "            Breadth=int(input(\"Breadth=\"))\n",
    "            Area =(Height*Breadth)/2\n",
    "            print(\"Area formula =(Height*Breadth)/2\")\n",
    "            print(\"Area of Triangle:\",Area)\n",
    "            \n",
    "    def perimeter():\n",
    "            Height1=int(input(\"Height1=\"))\n",
    "            Height2=int(input(\"Height2=\"))\n",
    "            Breadth=int(input(\"Breadth=\"))\n",
    "            Perimeter  = Height1+Height2+Breadth\n",
    "            print(\"Perimeter formula = Height1+Height2+Breadth\")\n",
    "            print(\"Perimeter of Triangle:\",Perimeter)\n",
    "\n",
    "triangle.area()\n",
    "triangle.perimeter()\n",
    "        "
   ]
  },
  {
   "cell_type": "code",
   "execution_count": null,
   "id": "50fe2639-2a13-4c15-af34-af38b41debd7",
   "metadata": {},
   "outputs": [],
   "source": []
  }
 ],
 "metadata": {
  "kernelspec": {
   "display_name": "Python 3 (ipykernel)",
   "language": "python",
   "name": "python3"
  },
  "language_info": {
   "codemirror_mode": {
    "name": "ipython",
    "version": 3
   },
   "file_extension": ".py",
   "mimetype": "text/x-python",
   "name": "python",
   "nbconvert_exporter": "python",
   "pygments_lexer": "ipython3",
   "version": "3.11.7"
  }
 },
 "nbformat": 4,
 "nbformat_minor": 5
}
